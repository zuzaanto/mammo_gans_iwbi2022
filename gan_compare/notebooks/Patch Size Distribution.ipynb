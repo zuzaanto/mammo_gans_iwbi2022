{
 "cells": [
  {
   "cell_type": "code",
   "execution_count": 1,
   "id": "e3fe4f26",
   "metadata": {},
   "outputs": [],
   "source": [
    "import numpy as np"
   ]
  },
  {
   "cell_type": "code",
   "execution_count": 4,
   "id": "5239b5e5",
   "metadata": {},
   "outputs": [],
   "source": [
    "import pandas as pd"
   ]
  },
  {
   "cell_type": "code",
   "execution_count": 77,
   "id": "37d35252",
   "metadata": {},
   "outputs": [],
   "source": [
    "df = pd.read_csv(\"dist.txt\")"
   ]
  },
  {
   "cell_type": "code",
   "execution_count": 105,
   "id": "67603913",
   "metadata": {},
   "outputs": [],
   "source": [
    "# df.to_csv('dist.csv', index=False)"
   ]
  },
  {
   "cell_type": "markdown",
   "id": "d0710e02",
   "metadata": {},
   "source": [
    "# Create npz file"
   ]
  },
  {
   "cell_type": "code",
   "execution_count": 106,
   "id": "c367bd5f",
   "metadata": {},
   "outputs": [
    {
     "name": "stdout",
     "output_type": "stream",
     "text": [
      "1070\n",
      "1288\n"
     ]
    }
   ],
   "source": [
    "s = []\n",
    "for c in df.columns:\n",
    "    diff = max(df[c]) - min(df[c])\n",
    "    print(diff)\n",
    "    histo = np.histogram(df[c], bins=diff)\n",
    "    probs = histo[0] / df[c].count()\n",
    "    s.append(probs)\n",
    "np.savez('patch_size_dist.npz', height=s[0], width=s[1])"
   ]
  },
  {
   "cell_type": "markdown",
   "id": "cd5abbb8",
   "metadata": {},
   "source": [
    "# Done"
   ]
  }
 ],
 "metadata": {
  "kernelspec": {
   "display_name": "Python 3 (ipykernel)",
   "language": "python",
   "name": "python3"
  },
  "language_info": {
   "codemirror_mode": {
    "name": "ipython",
    "version": 3
   },
   "file_extension": ".py",
   "mimetype": "text/x-python",
   "name": "python",
   "nbconvert_exporter": "python",
   "pygments_lexer": "ipython3",
   "version": "3.8.12"
  }
 },
 "nbformat": 4,
 "nbformat_minor": 5
}
