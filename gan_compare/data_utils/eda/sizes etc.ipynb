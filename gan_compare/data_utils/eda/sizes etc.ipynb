{
 "cells": [
  {
   "cell_type": "code",
   "execution_count": 41,
   "id": "vertical-catalyst",
   "metadata": {},
   "outputs": [],
   "source": [
    "import json\n",
    "import sys\n",
    "import numpy as np\n",
    "import matplotlib\n",
    "from matplotlib import pyplot as plt\n",
    "sys.path.append('/home/zuzanna/Desktop/gan_aug/gan_compare')\n",
    "%matplotlib inline"
   ]
  },
  {
   "cell_type": "code",
   "execution_count": 6,
   "id": "occupied-trash",
   "metadata": {},
   "outputs": [],
   "source": [
    "metadata_path = \"/home/zuzanna/Desktop/gan_aug/gan_compare/metadata/metadata.json\""
   ]
  },
  {
   "cell_type": "code",
   "execution_count": 14,
   "id": "directed-boards",
   "metadata": {},
   "outputs": [
    {
     "data": {
      "text/plain": [
       "[{'patient_id': '51048972',\n",
       "  'lesion_id': 4,\n",
       "  'bbox': [3306, 1332, 19, 21],\n",
       "  'image_path': '/home/zuzanna/Desktop/gan_aug/InBreast/InBreast/AllDICOMs/51048972_f3e93e889a7746f0_MG_R_CC_ANON.dcm',\n",
       "  'xml_path': '/home/zuzanna/Desktop/gan_aug/InBreast/InBreast/AllXML/51048972.xml'},\n",
       " {'patient_id': '50993643',\n",
       "  'lesion_id': 1,\n",
       "  'bbox': [1061, 1970, 23, 23],\n",
       "  'image_path': '/home/zuzanna/Desktop/gan_aug/InBreast/InBreast/AllDICOMs/50993643_b03f1dd34eb3c55f_MG_L_CC_ANON.dcm',\n",
       "  'xml_path': '/home/zuzanna/Desktop/gan_aug/InBreast/InBreast/AllXML/50993643.xml'},\n",
       " {'patient_id': '51049628',\n",
       "  'lesion_id': 5,\n",
       "  'bbox': [746, 1683, 9, 14],\n",
       "  'image_path': '/home/zuzanna/Desktop/gan_aug/InBreast/InBreast/AllDICOMs/51049628_6f64793857feb5d0_MG_L_ML_ANON.dcm',\n",
       "  'xml_path': '/home/zuzanna/Desktop/gan_aug/InBreast/InBreast/AllXML/51049628.xml'},\n",
       " {'patient_id': '20587080',\n",
       "  'lesion_id': 0,\n",
       "  'bbox': [1963, 2026, 68, 66],\n",
       "  'image_path': '/home/zuzanna/Desktop/gan_aug/InBreast/InBreast/AllDICOMs/20587080_b6a4f750c6df4f90_MG_R_ML_ANON.dcm',\n",
       "  'xml_path': '/home/zuzanna/Desktop/gan_aug/InBreast/InBreast/AllXML/20587080.xml'}]"
      ]
     },
     "execution_count": 14,
     "metadata": {},
     "output_type": "execute_result"
    }
   ],
   "source": [
    "with open(metadata_path, \"r\") as metadata_file:\n",
    "    metadata = json.load(metadata_file)\n",
    "metadata[:4]"
   ]
  },
  {
   "cell_type": "code",
   "execution_count": 18,
   "id": "brilliant-brighton",
   "metadata": {},
   "outputs": [
    {
     "data": {
      "text/plain": [
       "2628"
      ]
     },
     "execution_count": 18,
     "metadata": {},
     "output_type": "execute_result"
    }
   ],
   "source": [
    "len(metadata)"
   ]
  },
  {
   "cell_type": "code",
   "execution_count": 15,
   "id": "satellite-technology",
   "metadata": {},
   "outputs": [],
   "source": [
    "image_paths = []\n",
    "patient_ids = []\n",
    "for metapoint in metadata:\n",
    "    image_paths.append(metapoint[\"image_path\"])\n",
    "    patient_ids.append(metapoint[\"patient_id\"])"
   ]
  },
  {
   "cell_type": "code",
   "execution_count": 16,
   "id": "diagnostic-prototype",
   "metadata": {},
   "outputs": [
    {
     "data": {
      "text/plain": [
       "(2628, 300)"
      ]
     },
     "execution_count": 16,
     "metadata": {},
     "output_type": "execute_result"
    }
   ],
   "source": [
    "len(patient_ids), len(set(patient_ids))"
   ]
  },
  {
   "cell_type": "code",
   "execution_count": 17,
   "id": "about-condition",
   "metadata": {},
   "outputs": [
    {
     "data": {
      "text/plain": [
       "(2628, 300)"
      ]
     },
     "execution_count": 17,
     "metadata": {},
     "output_type": "execute_result"
    }
   ],
   "source": [
    "len(image_paths), len(set(image_paths))"
   ]
  },
  {
   "cell_type": "code",
   "execution_count": 19,
   "id": "collected-fleet",
   "metadata": {},
   "outputs": [],
   "source": [
    "import pandas as pd"
   ]
  },
  {
   "cell_type": "code",
   "execution_count": 20,
   "id": "retained-treasure",
   "metadata": {},
   "outputs": [],
   "source": [
    "metadata_df = pd.read_json(metadata_path)"
   ]
  },
  {
   "cell_type": "code",
   "execution_count": 21,
   "id": "accessory-clarity",
   "metadata": {},
   "outputs": [
    {
     "data": {
      "text/html": [
       "<div>\n",
       "<style scoped>\n",
       "    .dataframe tbody tr th:only-of-type {\n",
       "        vertical-align: middle;\n",
       "    }\n",
       "\n",
       "    .dataframe tbody tr th {\n",
       "        vertical-align: top;\n",
       "    }\n",
       "\n",
       "    .dataframe thead th {\n",
       "        text-align: right;\n",
       "    }\n",
       "</style>\n",
       "<table border=\"1\" class=\"dataframe\">\n",
       "  <thead>\n",
       "    <tr style=\"text-align: right;\">\n",
       "      <th></th>\n",
       "      <th>patient_id</th>\n",
       "      <th>lesion_id</th>\n",
       "      <th>bbox</th>\n",
       "      <th>image_path</th>\n",
       "      <th>xml_path</th>\n",
       "    </tr>\n",
       "  </thead>\n",
       "  <tbody>\n",
       "    <tr>\n",
       "      <th>0</th>\n",
       "      <td>51048972</td>\n",
       "      <td>4</td>\n",
       "      <td>[3306, 1332, 19, 21]</td>\n",
       "      <td>/home/zuzanna/Desktop/gan_aug/InBreast/InBreas...</td>\n",
       "      <td>/home/zuzanna/Desktop/gan_aug/InBreast/InBreas...</td>\n",
       "    </tr>\n",
       "    <tr>\n",
       "      <th>1</th>\n",
       "      <td>50993643</td>\n",
       "      <td>1</td>\n",
       "      <td>[1061, 1970, 23, 23]</td>\n",
       "      <td>/home/zuzanna/Desktop/gan_aug/InBreast/InBreas...</td>\n",
       "      <td>/home/zuzanna/Desktop/gan_aug/InBreast/InBreas...</td>\n",
       "    </tr>\n",
       "    <tr>\n",
       "      <th>2</th>\n",
       "      <td>51049628</td>\n",
       "      <td>5</td>\n",
       "      <td>[746, 1683, 9, 14]</td>\n",
       "      <td>/home/zuzanna/Desktop/gan_aug/InBreast/InBreas...</td>\n",
       "      <td>/home/zuzanna/Desktop/gan_aug/InBreast/InBreas...</td>\n",
       "    </tr>\n",
       "    <tr>\n",
       "      <th>3</th>\n",
       "      <td>20587080</td>\n",
       "      <td>0</td>\n",
       "      <td>[1963, 2026, 68, 66]</td>\n",
       "      <td>/home/zuzanna/Desktop/gan_aug/InBreast/InBreas...</td>\n",
       "      <td>/home/zuzanna/Desktop/gan_aug/InBreast/InBreas...</td>\n",
       "    </tr>\n",
       "    <tr>\n",
       "      <th>4</th>\n",
       "      <td>20587080</td>\n",
       "      <td>1</td>\n",
       "      <td>[2046, 1952, 134, 129]</td>\n",
       "      <td>/home/zuzanna/Desktop/gan_aug/InBreast/InBreas...</td>\n",
       "      <td>/home/zuzanna/Desktop/gan_aug/InBreast/InBreas...</td>\n",
       "    </tr>\n",
       "  </tbody>\n",
       "</table>\n",
       "</div>"
      ],
      "text/plain": [
       "   patient_id  lesion_id                    bbox  \\\n",
       "0    51048972          4    [3306, 1332, 19, 21]   \n",
       "1    50993643          1    [1061, 1970, 23, 23]   \n",
       "2    51049628          5      [746, 1683, 9, 14]   \n",
       "3    20587080          0    [1963, 2026, 68, 66]   \n",
       "4    20587080          1  [2046, 1952, 134, 129]   \n",
       "\n",
       "                                          image_path  \\\n",
       "0  /home/zuzanna/Desktop/gan_aug/InBreast/InBreas...   \n",
       "1  /home/zuzanna/Desktop/gan_aug/InBreast/InBreas...   \n",
       "2  /home/zuzanna/Desktop/gan_aug/InBreast/InBreas...   \n",
       "3  /home/zuzanna/Desktop/gan_aug/InBreast/InBreas...   \n",
       "4  /home/zuzanna/Desktop/gan_aug/InBreast/InBreas...   \n",
       "\n",
       "                                            xml_path  \n",
       "0  /home/zuzanna/Desktop/gan_aug/InBreast/InBreas...  \n",
       "1  /home/zuzanna/Desktop/gan_aug/InBreast/InBreas...  \n",
       "2  /home/zuzanna/Desktop/gan_aug/InBreast/InBreas...  \n",
       "3  /home/zuzanna/Desktop/gan_aug/InBreast/InBreas...  \n",
       "4  /home/zuzanna/Desktop/gan_aug/InBreast/InBreas...  "
      ]
     },
     "execution_count": 21,
     "metadata": {},
     "output_type": "execute_result"
    }
   ],
   "source": [
    "metadata_df.head()"
   ]
  },
  {
   "cell_type": "code",
   "execution_count": 24,
   "id": "dynamic-federation",
   "metadata": {},
   "outputs": [
    {
     "data": {
      "text/html": [
       "<div>\n",
       "<style scoped>\n",
       "    .dataframe tbody tr th:only-of-type {\n",
       "        vertical-align: middle;\n",
       "    }\n",
       "\n",
       "    .dataframe tbody tr th {\n",
       "        vertical-align: top;\n",
       "    }\n",
       "\n",
       "    .dataframe thead tr th {\n",
       "        text-align: left;\n",
       "    }\n",
       "\n",
       "    .dataframe thead tr:last-of-type th {\n",
       "        text-align: right;\n",
       "    }\n",
       "</style>\n",
       "<table border=\"1\" class=\"dataframe\">\n",
       "  <thead>\n",
       "    <tr>\n",
       "      <th></th>\n",
       "      <th colspan=\"8\" halign=\"left\">lesion_id</th>\n",
       "    </tr>\n",
       "    <tr>\n",
       "      <th></th>\n",
       "      <th>count</th>\n",
       "      <th>mean</th>\n",
       "      <th>std</th>\n",
       "      <th>min</th>\n",
       "      <th>25%</th>\n",
       "      <th>50%</th>\n",
       "      <th>75%</th>\n",
       "      <th>max</th>\n",
       "    </tr>\n",
       "    <tr>\n",
       "      <th>patient_id</th>\n",
       "      <th></th>\n",
       "      <th></th>\n",
       "      <th></th>\n",
       "      <th></th>\n",
       "      <th></th>\n",
       "      <th></th>\n",
       "      <th></th>\n",
       "      <th></th>\n",
       "    </tr>\n",
       "  </thead>\n",
       "  <tbody>\n",
       "    <tr>\n",
       "      <th>20586908</th>\n",
       "      <td>11.0</td>\n",
       "      <td>18.000000</td>\n",
       "      <td>13.038405</td>\n",
       "      <td>2.0</td>\n",
       "      <td>6.50</td>\n",
       "      <td>12.0</td>\n",
       "      <td>30.00</td>\n",
       "      <td>36.0</td>\n",
       "    </tr>\n",
       "    <tr>\n",
       "      <th>20586934</th>\n",
       "      <td>19.0</td>\n",
       "      <td>29.210526</td>\n",
       "      <td>17.681060</td>\n",
       "      <td>0.0</td>\n",
       "      <td>20.50</td>\n",
       "      <td>28.0</td>\n",
       "      <td>44.00</td>\n",
       "      <td>52.0</td>\n",
       "    </tr>\n",
       "    <tr>\n",
       "      <th>20586960</th>\n",
       "      <td>12.0</td>\n",
       "      <td>23.833333</td>\n",
       "      <td>12.995337</td>\n",
       "      <td>4.0</td>\n",
       "      <td>13.75</td>\n",
       "      <td>20.5</td>\n",
       "      <td>34.75</td>\n",
       "      <td>42.0</td>\n",
       "    </tr>\n",
       "    <tr>\n",
       "      <th>20586986</th>\n",
       "      <td>1.0</td>\n",
       "      <td>1.000000</td>\n",
       "      <td>NaN</td>\n",
       "      <td>1.0</td>\n",
       "      <td>1.00</td>\n",
       "      <td>1.0</td>\n",
       "      <td>1.00</td>\n",
       "      <td>1.0</td>\n",
       "    </tr>\n",
       "    <tr>\n",
       "      <th>20587054</th>\n",
       "      <td>3.0</td>\n",
       "      <td>1.000000</td>\n",
       "      <td>1.000000</td>\n",
       "      <td>0.0</td>\n",
       "      <td>0.50</td>\n",
       "      <td>1.0</td>\n",
       "      <td>1.50</td>\n",
       "      <td>2.0</td>\n",
       "    </tr>\n",
       "    <tr>\n",
       "      <th>...</th>\n",
       "      <td>...</td>\n",
       "      <td>...</td>\n",
       "      <td>...</td>\n",
       "      <td>...</td>\n",
       "      <td>...</td>\n",
       "      <td>...</td>\n",
       "      <td>...</td>\n",
       "      <td>...</td>\n",
       "    </tr>\n",
       "    <tr>\n",
       "      <th>53587454</th>\n",
       "      <td>1.0</td>\n",
       "      <td>0.000000</td>\n",
       "      <td>NaN</td>\n",
       "      <td>0.0</td>\n",
       "      <td>0.00</td>\n",
       "      <td>0.0</td>\n",
       "      <td>0.00</td>\n",
       "      <td>0.0</td>\n",
       "    </tr>\n",
       "    <tr>\n",
       "      <th>53587572</th>\n",
       "      <td>12.0</td>\n",
       "      <td>7.500000</td>\n",
       "      <td>5.351296</td>\n",
       "      <td>0.0</td>\n",
       "      <td>3.75</td>\n",
       "      <td>7.0</td>\n",
       "      <td>10.50</td>\n",
       "      <td>17.0</td>\n",
       "    </tr>\n",
       "    <tr>\n",
       "      <th>53587599</th>\n",
       "      <td>15.0</td>\n",
       "      <td>9.333333</td>\n",
       "      <td>6.553807</td>\n",
       "      <td>0.0</td>\n",
       "      <td>4.50</td>\n",
       "      <td>8.0</td>\n",
       "      <td>13.50</td>\n",
       "      <td>22.0</td>\n",
       "    </tr>\n",
       "    <tr>\n",
       "      <th>53587663</th>\n",
       "      <td>8.0</td>\n",
       "      <td>5.500000</td>\n",
       "      <td>2.449490</td>\n",
       "      <td>2.0</td>\n",
       "      <td>3.75</td>\n",
       "      <td>5.5</td>\n",
       "      <td>7.25</td>\n",
       "      <td>9.0</td>\n",
       "    </tr>\n",
       "    <tr>\n",
       "      <th>53587717</th>\n",
       "      <td>4.0</td>\n",
       "      <td>5.500000</td>\n",
       "      <td>1.290994</td>\n",
       "      <td>4.0</td>\n",
       "      <td>4.75</td>\n",
       "      <td>5.5</td>\n",
       "      <td>6.25</td>\n",
       "      <td>7.0</td>\n",
       "    </tr>\n",
       "  </tbody>\n",
       "</table>\n",
       "<p>300 rows × 8 columns</p>\n",
       "</div>"
      ],
      "text/plain": [
       "           lesion_id                                                     \n",
       "               count       mean        std  min    25%   50%    75%   max\n",
       "patient_id                                                               \n",
       "20586908        11.0  18.000000  13.038405  2.0   6.50  12.0  30.00  36.0\n",
       "20586934        19.0  29.210526  17.681060  0.0  20.50  28.0  44.00  52.0\n",
       "20586960        12.0  23.833333  12.995337  4.0  13.75  20.5  34.75  42.0\n",
       "20586986         1.0   1.000000        NaN  1.0   1.00   1.0   1.00   1.0\n",
       "20587054         3.0   1.000000   1.000000  0.0   0.50   1.0   1.50   2.0\n",
       "...              ...        ...        ...  ...    ...   ...    ...   ...\n",
       "53587454         1.0   0.000000        NaN  0.0   0.00   0.0   0.00   0.0\n",
       "53587572        12.0   7.500000   5.351296  0.0   3.75   7.0  10.50  17.0\n",
       "53587599        15.0   9.333333   6.553807  0.0   4.50   8.0  13.50  22.0\n",
       "53587663         8.0   5.500000   2.449490  2.0   3.75   5.5   7.25   9.0\n",
       "53587717         4.0   5.500000   1.290994  4.0   4.75   5.5   6.25   7.0\n",
       "\n",
       "[300 rows x 8 columns]"
      ]
     },
     "execution_count": 24,
     "metadata": {},
     "output_type": "execute_result"
    }
   ],
   "source": [
    "metadata_df.groupby(\"patient_id\").describe()"
   ]
  },
  {
   "cell_type": "code",
   "execution_count": 27,
   "id": "musical-agency",
   "metadata": {},
   "outputs": [
    {
     "data": {
      "text/plain": [
       "<AxesSubplot:ylabel='Frequency'>"
      ]
     },
     "execution_count": 27,
     "metadata": {},
     "output_type": "execute_result"
    },
    {
     "data": {
      "image/png": "[encoded data removed]",
      "text/plain": [
       "<Figure size 432x288 with 1 Axes>"
      ]
     },
     "metadata": {
      "needs_background": "light"
     },
     "output_type": "display_data"
    }
   ],
   "source": [
    "metadata_df.groupby(\"patient_id\")[\"lesion_id\"].count().plot.hist(bins=40)"
   ]
  },
  {
   "cell_type": "code",
   "execution_count": 31,
   "id": "directed-butter",
   "metadata": {},
   "outputs": [
    {
     "data": {
      "text/html": [
       "<div>\n",
       "<style scoped>\n",
       "    .dataframe tbody tr th:only-of-type {\n",
       "        vertical-align: middle;\n",
       "    }\n",
       "\n",
       "    .dataframe tbody tr th {\n",
       "        vertical-align: top;\n",
       "    }\n",
       "\n",
       "    .dataframe thead th {\n",
       "        text-align: right;\n",
       "    }\n",
       "</style>\n",
       "<table border=\"1\" class=\"dataframe\">\n",
       "  <thead>\n",
       "    <tr style=\"text-align: right;\">\n",
       "      <th></th>\n",
       "      <th>lesion_id</th>\n",
       "      <th>bbox</th>\n",
       "      <th>image_path</th>\n",
       "      <th>xml_path</th>\n",
       "    </tr>\n",
       "    <tr>\n",
       "      <th>patient_id</th>\n",
       "      <th></th>\n",
       "      <th></th>\n",
       "      <th></th>\n",
       "      <th></th>\n",
       "    </tr>\n",
       "  </thead>\n",
       "  <tbody>\n",
       "    <tr>\n",
       "      <th>50997026</th>\n",
       "      <td>135</td>\n",
       "      <td>135</td>\n",
       "      <td>135</td>\n",
       "      <td>135</td>\n",
       "    </tr>\n",
       "    <tr>\n",
       "      <th>50996972</th>\n",
       "      <td>112</td>\n",
       "      <td>112</td>\n",
       "      <td>112</td>\n",
       "      <td>112</td>\n",
       "    </tr>\n",
       "    <tr>\n",
       "      <th>50997134</th>\n",
       "      <td>107</td>\n",
       "      <td>107</td>\n",
       "      <td>107</td>\n",
       "      <td>107</td>\n",
       "    </tr>\n",
       "    <tr>\n",
       "      <th>50993841</th>\n",
       "      <td>105</td>\n",
       "      <td>105</td>\n",
       "      <td>105</td>\n",
       "      <td>105</td>\n",
       "    </tr>\n",
       "    <tr>\n",
       "      <th>53582791</th>\n",
       "      <td>103</td>\n",
       "      <td>103</td>\n",
       "      <td>103</td>\n",
       "      <td>103</td>\n",
       "    </tr>\n",
       "    <tr>\n",
       "      <th>...</th>\n",
       "      <td>...</td>\n",
       "      <td>...</td>\n",
       "      <td>...</td>\n",
       "      <td>...</td>\n",
       "    </tr>\n",
       "    <tr>\n",
       "      <th>50997223</th>\n",
       "      <td>1</td>\n",
       "      <td>1</td>\n",
       "      <td>1</td>\n",
       "      <td>1</td>\n",
       "    </tr>\n",
       "    <tr>\n",
       "      <th>20588536</th>\n",
       "      <td>1</td>\n",
       "      <td>1</td>\n",
       "      <td>1</td>\n",
       "      <td>1</td>\n",
       "    </tr>\n",
       "    <tr>\n",
       "      <th>20588562</th>\n",
       "      <td>1</td>\n",
       "      <td>1</td>\n",
       "      <td>1</td>\n",
       "      <td>1</td>\n",
       "    </tr>\n",
       "    <tr>\n",
       "      <th>20588654</th>\n",
       "      <td>1</td>\n",
       "      <td>1</td>\n",
       "      <td>1</td>\n",
       "      <td>1</td>\n",
       "    </tr>\n",
       "    <tr>\n",
       "      <th>22670278</th>\n",
       "      <td>1</td>\n",
       "      <td>1</td>\n",
       "      <td>1</td>\n",
       "      <td>1</td>\n",
       "    </tr>\n",
       "  </tbody>\n",
       "</table>\n",
       "<p>300 rows × 4 columns</p>\n",
       "</div>"
      ],
      "text/plain": [
       "            lesion_id  bbox  image_path  xml_path\n",
       "patient_id                                       \n",
       "50997026          135   135         135       135\n",
       "50996972          112   112         112       112\n",
       "50997134          107   107         107       107\n",
       "50993841          105   105         105       105\n",
       "53582791          103   103         103       103\n",
       "...               ...   ...         ...       ...\n",
       "50997223            1     1           1         1\n",
       "20588536            1     1           1         1\n",
       "20588562            1     1           1         1\n",
       "20588654            1     1           1         1\n",
       "22670278            1     1           1         1\n",
       "\n",
       "[300 rows x 4 columns]"
      ]
     },
     "execution_count": 31,
     "metadata": {},
     "output_type": "execute_result"
    }
   ],
   "source": [
    "metadata_df.groupby(\"patient_id\").count().sort_values(by=\"lesion_id\", ascending=False)"
   ]
  },
  {
   "cell_type": "code",
   "execution_count": 32,
   "id": "humanitarian-continent",
   "metadata": {},
   "outputs": [
    {
     "data": {
      "text/html": [
       "<div>\n",
       "<style scoped>\n",
       "    .dataframe tbody tr th:only-of-type {\n",
       "        vertical-align: middle;\n",
       "    }\n",
       "\n",
       "    .dataframe tbody tr th {\n",
       "        vertical-align: top;\n",
       "    }\n",
       "\n",
       "    .dataframe thead th {\n",
       "        text-align: right;\n",
       "    }\n",
       "</style>\n",
       "<table border=\"1\" class=\"dataframe\">\n",
       "  <thead>\n",
       "    <tr style=\"text-align: right;\">\n",
       "      <th></th>\n",
       "      <th>patient_id</th>\n",
       "      <th>lesion_id</th>\n",
       "      <th>bbox</th>\n",
       "      <th>image_path</th>\n",
       "      <th>xml_path</th>\n",
       "    </tr>\n",
       "  </thead>\n",
       "  <tbody>\n",
       "    <tr>\n",
       "      <th>693</th>\n",
       "      <td>50997026</td>\n",
       "      <td>8</td>\n",
       "      <td>[2994, 2029, 7, 9]</td>\n",
       "      <td>/home/zuzanna/Desktop/gan_aug/InBreast/InBreas...</td>\n",
       "      <td>/home/zuzanna/Desktop/gan_aug/InBreast/InBreas...</td>\n",
       "    </tr>\n",
       "    <tr>\n",
       "      <th>694</th>\n",
       "      <td>50997026</td>\n",
       "      <td>9</td>\n",
       "      <td>[2974, 1995, 5, 5]</td>\n",
       "      <td>/home/zuzanna/Desktop/gan_aug/InBreast/InBreas...</td>\n",
       "      <td>/home/zuzanna/Desktop/gan_aug/InBreast/InBreas...</td>\n",
       "    </tr>\n",
       "    <tr>\n",
       "      <th>695</th>\n",
       "      <td>50997026</td>\n",
       "      <td>10</td>\n",
       "      <td>[3019, 1983, 9, 8]</td>\n",
       "      <td>/home/zuzanna/Desktop/gan_aug/InBreast/InBreas...</td>\n",
       "      <td>/home/zuzanna/Desktop/gan_aug/InBreast/InBreas...</td>\n",
       "    </tr>\n",
       "    <tr>\n",
       "      <th>696</th>\n",
       "      <td>50997026</td>\n",
       "      <td>11</td>\n",
       "      <td>[2952, 1966, 6, 9]</td>\n",
       "      <td>/home/zuzanna/Desktop/gan_aug/InBreast/InBreas...</td>\n",
       "      <td>/home/zuzanna/Desktop/gan_aug/InBreast/InBreas...</td>\n",
       "    </tr>\n",
       "    <tr>\n",
       "      <th>697</th>\n",
       "      <td>50997026</td>\n",
       "      <td>12</td>\n",
       "      <td>[3025, 1956, 8, 10]</td>\n",
       "      <td>/home/zuzanna/Desktop/gan_aug/InBreast/InBreas...</td>\n",
       "      <td>/home/zuzanna/Desktop/gan_aug/InBreast/InBreas...</td>\n",
       "    </tr>\n",
       "    <tr>\n",
       "      <th>...</th>\n",
       "      <td>...</td>\n",
       "      <td>...</td>\n",
       "      <td>...</td>\n",
       "      <td>...</td>\n",
       "      <td>...</td>\n",
       "    </tr>\n",
       "    <tr>\n",
       "      <th>823</th>\n",
       "      <td>50997026</td>\n",
       "      <td>160</td>\n",
       "      <td>[2738, 1442, 13, 12]</td>\n",
       "      <td>/home/zuzanna/Desktop/gan_aug/InBreast/InBreas...</td>\n",
       "      <td>/home/zuzanna/Desktop/gan_aug/InBreast/InBreas...</td>\n",
       "    </tr>\n",
       "    <tr>\n",
       "      <th>824</th>\n",
       "      <td>50997026</td>\n",
       "      <td>161</td>\n",
       "      <td>[2709, 1427, 5, 5]</td>\n",
       "      <td>/home/zuzanna/Desktop/gan_aug/InBreast/InBreas...</td>\n",
       "      <td>/home/zuzanna/Desktop/gan_aug/InBreast/InBreas...</td>\n",
       "    </tr>\n",
       "    <tr>\n",
       "      <th>825</th>\n",
       "      <td>50997026</td>\n",
       "      <td>162</td>\n",
       "      <td>[2716, 1423, 9, 9]</td>\n",
       "      <td>/home/zuzanna/Desktop/gan_aug/InBreast/InBreas...</td>\n",
       "      <td>/home/zuzanna/Desktop/gan_aug/InBreast/InBreas...</td>\n",
       "    </tr>\n",
       "    <tr>\n",
       "      <th>826</th>\n",
       "      <td>50997026</td>\n",
       "      <td>166</td>\n",
       "      <td>[2343, 1346, 9, 5]</td>\n",
       "      <td>/home/zuzanna/Desktop/gan_aug/InBreast/InBreas...</td>\n",
       "      <td>/home/zuzanna/Desktop/gan_aug/InBreast/InBreas...</td>\n",
       "    </tr>\n",
       "    <tr>\n",
       "      <th>827</th>\n",
       "      <td>50997026</td>\n",
       "      <td>169</td>\n",
       "      <td>[2588, 1112, 15, 15]</td>\n",
       "      <td>/home/zuzanna/Desktop/gan_aug/InBreast/InBreas...</td>\n",
       "      <td>/home/zuzanna/Desktop/gan_aug/InBreast/InBreas...</td>\n",
       "    </tr>\n",
       "  </tbody>\n",
       "</table>\n",
       "<p>135 rows × 5 columns</p>\n",
       "</div>"
      ],
      "text/plain": [
       "     patient_id  lesion_id                  bbox  \\\n",
       "693    50997026          8    [2994, 2029, 7, 9]   \n",
       "694    50997026          9    [2974, 1995, 5, 5]   \n",
       "695    50997026         10    [3019, 1983, 9, 8]   \n",
       "696    50997026         11    [2952, 1966, 6, 9]   \n",
       "697    50997026         12   [3025, 1956, 8, 10]   \n",
       "..          ...        ...                   ...   \n",
       "823    50997026        160  [2738, 1442, 13, 12]   \n",
       "824    50997026        161    [2709, 1427, 5, 5]   \n",
       "825    50997026        162    [2716, 1423, 9, 9]   \n",
       "826    50997026        166    [2343, 1346, 9, 5]   \n",
       "827    50997026        169  [2588, 1112, 15, 15]   \n",
       "\n",
       "                                            image_path  \\\n",
       "693  /home/zuzanna/Desktop/gan_aug/InBreast/InBreas...   \n",
       "694  /home/zuzanna/Desktop/gan_aug/InBreast/InBreas...   \n",
       "695  /home/zuzanna/Desktop/gan_aug/InBreast/InBreas...   \n",
       "696  /home/zuzanna/Desktop/gan_aug/InBreast/InBreas...   \n",
       "697  /home/zuzanna/Desktop/gan_aug/InBreast/InBreas...   \n",
       "..                                                 ...   \n",
       "823  /home/zuzanna/Desktop/gan_aug/InBreast/InBreas...   \n",
       "824  /home/zuzanna/Desktop/gan_aug/InBreast/InBreas...   \n",
       "825  /home/zuzanna/Desktop/gan_aug/InBreast/InBreas...   \n",
       "826  /home/zuzanna/Desktop/gan_aug/InBreast/InBreas...   \n",
       "827  /home/zuzanna/Desktop/gan_aug/InBreast/InBreas...   \n",
       "\n",
       "                                              xml_path  \n",
       "693  /home/zuzanna/Desktop/gan_aug/InBreast/InBreas...  \n",
       "694  /home/zuzanna/Desktop/gan_aug/InBreast/InBreas...  \n",
       "695  /home/zuzanna/Desktop/gan_aug/InBreast/InBreas...  \n",
       "696  /home/zuzanna/Desktop/gan_aug/InBreast/InBreas...  \n",
       "697  /home/zuzanna/Desktop/gan_aug/InBreast/InBreas...  \n",
       "..                                                 ...  \n",
       "823  /home/zuzanna/Desktop/gan_aug/InBreast/InBreas...  \n",
       "824  /home/zuzanna/Desktop/gan_aug/InBreast/InBreas...  \n",
       "825  /home/zuzanna/Desktop/gan_aug/InBreast/InBreas...  \n",
       "826  /home/zuzanna/Desktop/gan_aug/InBreast/InBreas...  \n",
       "827  /home/zuzanna/Desktop/gan_aug/InBreast/InBreas...  \n",
       "\n",
       "[135 rows x 5 columns]"
      ]
     },
     "execution_count": 32,
     "metadata": {},
     "output_type": "execute_result"
    }
   ],
   "source": [
    "metadata_df[metadata_df[\"patient_id\"] == 50997026]"
   ]
  },
  {
   "cell_type": "code",
   "execution_count": 44,
   "id": "miniature-prediction",
   "metadata": {},
   "outputs": [],
   "source": [
    "image_path = metadata_df[metadata_df[\"patient_id\"] == 50997026][\"image_path\"][693]\n",
    "xml_filepath = metadata_df[metadata_df[\"patient_id\"] == 50997026][\"xml_path\"][693]"
   ]
  },
  {
   "cell_type": "code",
   "execution_count": 46,
   "id": "paperback-birthday",
   "metadata": {},
   "outputs": [],
   "source": [
    "from gan_compare.data_utils.utils import load_inbreast_mask\n",
    "import pydicom as dicom"
   ]
  },
  {
   "cell_type": "code",
   "execution_count": 47,
   "id": "unlikely-hawaii",
   "metadata": {},
   "outputs": [],
   "source": [
    "ds = dicom.dcmread(image_path)\n",
    "with open(xml_filepath, \"rb\") as patient_xml:\n",
    "    mask = load_inbreast_mask(patient_xml, ds.pixel_array.shape)"
   ]
  },
  {
   "cell_type": "code",
   "execution_count": 48,
   "id": "treated-elimination",
   "metadata": {},
   "outputs": [
    {
     "data": {
      "image/png": "[encoded data removed]",
      "text/plain": [
       "<Figure size 432x288 with 1 Axes>"
      ]
     },
     "metadata": {
      "needs_background": "light"
     },
     "output_type": "display_data"
    }
   ],
   "source": [
    "plt.imshow(ds.pixel_array)\n",
    "plt.show()"
   ]
  },
  {
   "cell_type": "code",
   "execution_count": 49,
   "id": "indonesian-soviet",
   "metadata": {},
   "outputs": [
    {
     "data": {
      "image/png": "[encoded data removed]",
      "text/plain": [
       "<Figure size 432x288 with 1 Axes>"
      ]
     },
     "metadata": {
      "needs_background": "light"
     },
     "output_type": "display_data"
    }
   ],
   "source": [
    "plt.imshow(ds.pixel_array * (1-mask))\n",
    "plt.show()"
   ]
  },
  {
   "cell_type": "code",
   "execution_count": null,
   "id": "blessed-praise",
   "metadata": {},
   "outputs": [],
   "source": []
  }
 ],
 "metadata": {
  "kernelspec": {
   "display_name": "Python 3",
   "language": "python",
   "name": "python3"
  },
  "language_info": {
   "codemirror_mode": {
    "name": "ipython",
    "version": 3
   },
   "file_extension": ".py",
   "mimetype": "text/x-python",
   "name": "python",
   "nbconvert_exporter": "python",
   "pygments_lexer": "ipython3",
   "version": "3.6.9"
  }
 },
 "nbformat": 4,
 "nbformat_minor": 5
}
